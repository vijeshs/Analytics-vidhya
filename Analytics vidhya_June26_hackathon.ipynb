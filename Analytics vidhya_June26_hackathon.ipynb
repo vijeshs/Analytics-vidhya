{
 "cells": [
  {
   "cell_type": "code",
   "execution_count": 1,
   "metadata": {
    "ExecuteTime": {
     "end_time": "2021-06-28T08:51:36.021058Z",
     "start_time": "2021-06-28T08:51:24.275333Z"
    }
   },
   "outputs": [],
   "source": [
    "import pandas as pd"
   ]
  },
  {
   "cell_type": "code",
   "execution_count": 2,
   "metadata": {
    "ExecuteTime": {
     "end_time": "2021-06-28T08:51:52.920686Z",
     "start_time": "2021-06-28T08:51:36.021058Z"
    }
   },
   "outputs": [],
   "source": [
    "user_table=pd.read_csv(\"userTable.csv\")\n",
    "vistorlog=pd.read_csv(\"VisitorLogsData.csv\")\n",
    "submission=pd.read_csv(\"sample_submission_M7Vpb9f.csv\")"
   ]
  },
  {
   "cell_type": "code",
   "execution_count": 3,
   "metadata": {
    "ExecuteTime": {
     "end_time": "2021-06-28T08:51:53.329732Z",
     "start_time": "2021-06-28T08:51:52.920686Z"
    }
   },
   "outputs": [
    {
     "data": {
      "text/html": [
       "<div>\n",
       "<style scoped>\n",
       "    .dataframe tbody tr th:only-of-type {\n",
       "        vertical-align: middle;\n",
       "    }\n",
       "\n",
       "    .dataframe tbody tr th {\n",
       "        vertical-align: top;\n",
       "    }\n",
       "\n",
       "    .dataframe thead th {\n",
       "        text-align: right;\n",
       "    }\n",
       "</style>\n",
       "<table border=\"1\" class=\"dataframe\">\n",
       "  <thead>\n",
       "    <tr style=\"text-align: right;\">\n",
       "      <th></th>\n",
       "      <th>UserID</th>\n",
       "      <th>Signup Date</th>\n",
       "      <th>User Segment</th>\n",
       "    </tr>\n",
       "  </thead>\n",
       "  <tbody>\n",
       "    <tr>\n",
       "      <th>0</th>\n",
       "      <td>U133159</td>\n",
       "      <td>2018-04-14 07:01:16.202607+00:00</td>\n",
       "      <td>C</td>\n",
       "    </tr>\n",
       "    <tr>\n",
       "      <th>1</th>\n",
       "      <td>U129368</td>\n",
       "      <td>2017-12-02 09:38:41.584270+00:00</td>\n",
       "      <td>B</td>\n",
       "    </tr>\n",
       "    <tr>\n",
       "      <th>2</th>\n",
       "      <td>U109654</td>\n",
       "      <td>2013-03-19 11:38:55+00:00</td>\n",
       "      <td>B</td>\n",
       "    </tr>\n",
       "    <tr>\n",
       "      <th>3</th>\n",
       "      <td>U108998</td>\n",
       "      <td>2018-01-18 08:29:51.627954+00:00</td>\n",
       "      <td>C</td>\n",
       "    </tr>\n",
       "    <tr>\n",
       "      <th>4</th>\n",
       "      <td>U131393</td>\n",
       "      <td>2018-03-27 08:05:28.806800+00:00</td>\n",
       "      <td>B</td>\n",
       "    </tr>\n",
       "  </tbody>\n",
       "</table>\n",
       "</div>"
      ],
      "text/plain": [
       "    UserID                       Signup Date User Segment\n",
       "0  U133159  2018-04-14 07:01:16.202607+00:00            C\n",
       "1  U129368  2017-12-02 09:38:41.584270+00:00            B\n",
       "2  U109654         2013-03-19 11:38:55+00:00            B\n",
       "3  U108998  2018-01-18 08:29:51.627954+00:00            C\n",
       "4  U131393  2018-03-27 08:05:28.806800+00:00            B"
      ]
     },
     "execution_count": 3,
     "metadata": {},
     "output_type": "execute_result"
    }
   ],
   "source": [
    "user_table.head()"
   ]
  },
  {
   "cell_type": "code",
   "execution_count": 4,
   "metadata": {
    "ExecuteTime": {
     "end_time": "2021-06-28T08:51:53.361730Z",
     "start_time": "2021-06-28T08:51:53.329732Z"
    }
   },
   "outputs": [
    {
     "data": {
      "text/html": [
       "<div>\n",
       "<style scoped>\n",
       "    .dataframe tbody tr th:only-of-type {\n",
       "        vertical-align: middle;\n",
       "    }\n",
       "\n",
       "    .dataframe tbody tr th {\n",
       "        vertical-align: top;\n",
       "    }\n",
       "\n",
       "    .dataframe thead th {\n",
       "        text-align: right;\n",
       "    }\n",
       "</style>\n",
       "<table border=\"1\" class=\"dataframe\">\n",
       "  <thead>\n",
       "    <tr style=\"text-align: right;\">\n",
       "      <th></th>\n",
       "      <th>webClientID</th>\n",
       "      <th>VisitDateTime</th>\n",
       "      <th>ProductID</th>\n",
       "      <th>UserID</th>\n",
       "      <th>Activity</th>\n",
       "      <th>Browser</th>\n",
       "      <th>OS</th>\n",
       "      <th>City</th>\n",
       "      <th>Country</th>\n",
       "    </tr>\n",
       "  </thead>\n",
       "  <tbody>\n",
       "    <tr>\n",
       "      <th>0</th>\n",
       "      <td>WI10000050298</td>\n",
       "      <td>2018-05-07 04:28:45.970</td>\n",
       "      <td>pr100631</td>\n",
       "      <td>NaN</td>\n",
       "      <td>NaN</td>\n",
       "      <td>Chrome Mobile</td>\n",
       "      <td>Android</td>\n",
       "      <td>Chennai</td>\n",
       "      <td>India</td>\n",
       "    </tr>\n",
       "    <tr>\n",
       "      <th>1</th>\n",
       "      <td>WI10000025922</td>\n",
       "      <td>2018-05-13 07:26:04.964</td>\n",
       "      <td>pr100707</td>\n",
       "      <td>NaN</td>\n",
       "      <td>NaN</td>\n",
       "      <td>Chrome</td>\n",
       "      <td>Windows</td>\n",
       "      <td>NaN</td>\n",
       "      <td>Taiwan</td>\n",
       "    </tr>\n",
       "    <tr>\n",
       "      <th>2</th>\n",
       "      <td>WI100000204522</td>\n",
       "      <td>2018-05-11 11:43:42.832</td>\n",
       "      <td>pr100030</td>\n",
       "      <td>NaN</td>\n",
       "      <td>click</td>\n",
       "      <td>Chrome</td>\n",
       "      <td>windows</td>\n",
       "      <td>Gurgaon</td>\n",
       "      <td>India</td>\n",
       "    </tr>\n",
       "    <tr>\n",
       "      <th>3</th>\n",
       "      <td>WI10000011974</td>\n",
       "      <td>2018-05-13 15:20:23.436</td>\n",
       "      <td>Pr100192</td>\n",
       "      <td>NaN</td>\n",
       "      <td>CLICK</td>\n",
       "      <td>Chrome</td>\n",
       "      <td>Windows</td>\n",
       "      <td></td>\n",
       "      <td></td>\n",
       "    </tr>\n",
       "    <tr>\n",
       "      <th>4</th>\n",
       "      <td>WI100000441953</td>\n",
       "      <td>2018-05-08 20:44:25.238</td>\n",
       "      <td>Pr100762</td>\n",
       "      <td>NaN</td>\n",
       "      <td>click</td>\n",
       "      <td>Chrome</td>\n",
       "      <td>mac os x</td>\n",
       "      <td>Iselin</td>\n",
       "      <td>United States</td>\n",
       "    </tr>\n",
       "  </tbody>\n",
       "</table>\n",
       "</div>"
      ],
      "text/plain": [
       "      webClientID            VisitDateTime ProductID UserID Activity  \\\n",
       "0   WI10000050298  2018-05-07 04:28:45.970  pr100631    NaN      NaN   \n",
       "1   WI10000025922  2018-05-13 07:26:04.964  pr100707    NaN      NaN   \n",
       "2  WI100000204522  2018-05-11 11:43:42.832  pr100030    NaN    click   \n",
       "3   WI10000011974  2018-05-13 15:20:23.436  Pr100192    NaN    CLICK   \n",
       "4  WI100000441953  2018-05-08 20:44:25.238  Pr100762    NaN    click   \n",
       "\n",
       "         Browser        OS     City        Country  \n",
       "0  Chrome Mobile   Android  Chennai          India  \n",
       "1         Chrome   Windows      NaN         Taiwan  \n",
       "2         Chrome   windows  Gurgaon          India  \n",
       "3         Chrome   Windows                          \n",
       "4         Chrome  mac os x   Iselin  United States  "
      ]
     },
     "execution_count": 4,
     "metadata": {},
     "output_type": "execute_result"
    }
   ],
   "source": [
    "vistorlog.head()"
   ]
  },
  {
   "cell_type": "code",
   "execution_count": 5,
   "metadata": {
    "ExecuteTime": {
     "end_time": "2021-06-28T08:51:53.573888Z",
     "start_time": "2021-06-28T08:51:53.361730Z"
    }
   },
   "outputs": [
    {
     "data": {
      "text/html": [
       "<div>\n",
       "<style scoped>\n",
       "    .dataframe tbody tr th:only-of-type {\n",
       "        vertical-align: middle;\n",
       "    }\n",
       "\n",
       "    .dataframe tbody tr th {\n",
       "        vertical-align: top;\n",
       "    }\n",
       "\n",
       "    .dataframe thead th {\n",
       "        text-align: right;\n",
       "    }\n",
       "</style>\n",
       "<table border=\"1\" class=\"dataframe\">\n",
       "  <thead>\n",
       "    <tr style=\"text-align: right;\">\n",
       "      <th></th>\n",
       "      <th>UserID</th>\n",
       "      <th>No_of_days_Visited_7_Days</th>\n",
       "      <th>No_Of_Products_Viewed_15_Days</th>\n",
       "      <th>User_Vintage</th>\n",
       "      <th>Most_Viewed_product_15_Days</th>\n",
       "      <th>Most_Active_OS</th>\n",
       "      <th>Recently_Viewed_Product</th>\n",
       "      <th>Pageloads_last_7_days</th>\n",
       "      <th>Clicks_last_7_days</th>\n",
       "    </tr>\n",
       "  </thead>\n",
       "  <tbody>\n",
       "    <tr>\n",
       "      <th>0</th>\n",
       "      <td>U100002</td>\n",
       "      <td>1</td>\n",
       "      <td>1</td>\n",
       "      <td>1</td>\n",
       "      <td>P12345</td>\n",
       "      <td>OS12345</td>\n",
       "      <td>P12345</td>\n",
       "      <td>1</td>\n",
       "      <td>1</td>\n",
       "    </tr>\n",
       "    <tr>\n",
       "      <th>1</th>\n",
       "      <td>U100003</td>\n",
       "      <td>1</td>\n",
       "      <td>1</td>\n",
       "      <td>1</td>\n",
       "      <td>P12345</td>\n",
       "      <td>OS12345</td>\n",
       "      <td>P12345</td>\n",
       "      <td>1</td>\n",
       "      <td>1</td>\n",
       "    </tr>\n",
       "    <tr>\n",
       "      <th>2</th>\n",
       "      <td>U100004</td>\n",
       "      <td>1</td>\n",
       "      <td>1</td>\n",
       "      <td>1</td>\n",
       "      <td>P12345</td>\n",
       "      <td>OS12345</td>\n",
       "      <td>P12345</td>\n",
       "      <td>1</td>\n",
       "      <td>1</td>\n",
       "    </tr>\n",
       "    <tr>\n",
       "      <th>3</th>\n",
       "      <td>U100005</td>\n",
       "      <td>1</td>\n",
       "      <td>1</td>\n",
       "      <td>1</td>\n",
       "      <td>P12345</td>\n",
       "      <td>OS12345</td>\n",
       "      <td>P12345</td>\n",
       "      <td>1</td>\n",
       "      <td>1</td>\n",
       "    </tr>\n",
       "    <tr>\n",
       "      <th>4</th>\n",
       "      <td>U100006</td>\n",
       "      <td>1</td>\n",
       "      <td>1</td>\n",
       "      <td>1</td>\n",
       "      <td>P12345</td>\n",
       "      <td>OS12345</td>\n",
       "      <td>P12345</td>\n",
       "      <td>1</td>\n",
       "      <td>1</td>\n",
       "    </tr>\n",
       "  </tbody>\n",
       "</table>\n",
       "</div>"
      ],
      "text/plain": [
       "    UserID  No_of_days_Visited_7_Days  No_Of_Products_Viewed_15_Days  \\\n",
       "0  U100002                          1                              1   \n",
       "1  U100003                          1                              1   \n",
       "2  U100004                          1                              1   \n",
       "3  U100005                          1                              1   \n",
       "4  U100006                          1                              1   \n",
       "\n",
       "   User_Vintage Most_Viewed_product_15_Days Most_Active_OS  \\\n",
       "0             1                      P12345        OS12345   \n",
       "1             1                      P12345        OS12345   \n",
       "2             1                      P12345        OS12345   \n",
       "3             1                      P12345        OS12345   \n",
       "4             1                      P12345        OS12345   \n",
       "\n",
       "  Recently_Viewed_Product  Pageloads_last_7_days  Clicks_last_7_days  \n",
       "0                  P12345                      1                   1  \n",
       "1                  P12345                      1                   1  \n",
       "2                  P12345                      1                   1  \n",
       "3                  P12345                      1                   1  \n",
       "4                  P12345                      1                   1  "
      ]
     },
     "execution_count": 5,
     "metadata": {},
     "output_type": "execute_result"
    }
   ],
   "source": [
    "submission.head()"
   ]
  },
  {
   "cell_type": "code",
   "execution_count": 6,
   "metadata": {
    "ExecuteTime": {
     "end_time": "2021-06-28T08:51:55.890560Z",
     "start_time": "2021-06-28T08:51:53.573888Z"
    }
   },
   "outputs": [],
   "source": [
    "data=vistorlog.merge(user_table,on='UserID',how='left') "
   ]
  },
  {
   "cell_type": "code",
   "execution_count": 7,
   "metadata": {
    "ExecuteTime": {
     "end_time": "2021-06-28T08:52:29.237384Z",
     "start_time": "2021-06-28T08:51:55.890560Z"
    }
   },
   "outputs": [
    {
     "data": {
      "application/javascript": [
       "\n",
       "        if (window._pyforest_update_imports_cell) { window._pyforest_update_imports_cell('import numpy as np'); }\n",
       "    "
      ],
      "text/plain": [
       "<IPython.core.display.Javascript object>"
      ]
     },
     "metadata": {},
     "output_type": "display_data"
    }
   ],
   "source": [
    "data['VisitDateTime']=data['VisitDateTime'].fillna('null')\n",
    "data[['UserID','VisitDateTime']]=data[['UserID','VisitDateTime']].sort_values(by='UserID').replace('null',np.nan).ffill()"
   ]
  },
  {
   "cell_type": "code",
   "execution_count": 8,
   "metadata": {
    "ExecuteTime": {
     "end_time": "2021-06-28T08:52:36.860268Z",
     "start_time": "2021-06-28T08:52:29.398405Z"
    }
   },
   "outputs": [],
   "source": [
    "data['ProductID']=data['ProductID'].str.lower()\n",
    "data['Activity']=data['Activity'].str.lower()\n",
    "data['OS']=data['OS'].str.lower()"
   ]
  },
  {
   "cell_type": "code",
   "execution_count": 9,
   "metadata": {
    "ExecuteTime": {
     "end_time": "2021-06-28T08:52:36.876268Z",
     "start_time": "2021-06-28T08:52:36.860268Z"
    }
   },
   "outputs": [],
   "source": [
    "#data[data['UserID']=='U106593']"
   ]
  },
  {
   "cell_type": "code",
   "execution_count": 10,
   "metadata": {
    "ExecuteTime": {
     "end_time": "2021-06-28T08:52:37.117095Z",
     "start_time": "2021-06-28T08:52:36.876268Z"
    }
   },
   "outputs": [],
   "source": [
    "df=pd.DataFrame()\n",
    "df['index']=submission['UserID']"
   ]
  },
  {
   "cell_type": "code",
   "execution_count": null,
   "metadata": {
    "ExecuteTime": {
     "end_time": "2021-06-26T07:02:20.776280Z",
     "start_time": "2021-06-26T07:02:20.768276Z"
    }
   },
   "outputs": [],
   "source": []
  },
  {
   "cell_type": "code",
   "execution_count": 11,
   "metadata": {
    "ExecuteTime": {
     "end_time": "2021-06-28T08:53:02.589172Z",
     "start_time": "2021-06-28T08:52:37.117095Z"
    }
   },
   "outputs": [],
   "source": [
    "import datetime\n",
    "visit_date=[]\n",
    "for i in data['VisitDateTime']:\n",
    "    try:\n",
    "        \n",
    "        if type(int(i))==int:\n",
    "            visit_date.append(datetime.datetime.fromtimestamp(int(i)/1000000000,datetime.timezone.utc).strftime('%Y-%m-%d %H:%M:%S.%f'))\n",
    "    except ValueError :\n",
    "        visit_date.append(i)\n"
   ]
  },
  {
   "cell_type": "code",
   "execution_count": null,
   "metadata": {
    "ExecuteTime": {
     "end_time": "2021-06-26T06:21:16.999620Z",
     "start_time": "2021-06-26T06:21:16.943228Z"
    }
   },
   "outputs": [],
   "source": []
  },
  {
   "cell_type": "code",
   "execution_count": 12,
   "metadata": {
    "ExecuteTime": {
     "end_time": "2021-06-28T08:53:11.601442Z",
     "start_time": "2021-06-28T08:53:02.589172Z"
    }
   },
   "outputs": [
    {
     "data": {
      "application/javascript": [
       "\n",
       "        if (window._pyforest_update_imports_cell) { window._pyforest_update_imports_cell('import numpy as np'); }\n",
       "    "
      ],
      "text/plain": [
       "<IPython.core.display.Javascript object>"
      ]
     },
     "metadata": {},
     "output_type": "display_data"
    },
    {
     "data": {
      "text/plain": [
       "Timestamp('2018-05-27 23:59:59.576000')"
      ]
     },
     "execution_count": 12,
     "metadata": {},
     "output_type": "execute_result"
    }
   ],
   "source": [
    "data['visit_date_time']=visit_date\n",
    "data['visit_date_time'].fillna(np.nan,inplace=True)\n",
    "data['visit_date_time']= pd.to_datetime(data['visit_date_time'])\n",
    "data['visit_date_time'].max()"
   ]
  },
  {
   "cell_type": "code",
   "execution_count": 13,
   "metadata": {
    "ExecuteTime": {
     "end_time": "2021-06-28T08:53:12.229265Z",
     "start_time": "2021-06-28T08:53:11.601442Z"
    }
   },
   "outputs": [],
   "source": [
    "days_visited=data['UserID'][data['visit_date_time']>'2018-05-21'].value_counts().to_frame(name='No_of_days_Visited_7_Days').reset_index(level=0)\n",
    "df=df.merge(days_visited,on='index',how='left')"
   ]
  },
  {
   "cell_type": "code",
   "execution_count": null,
   "metadata": {
    "ExecuteTime": {
     "end_time": "2021-06-27T03:40:10.377810Z",
     "start_time": "2021-06-27T03:40:08.801250Z"
    }
   },
   "outputs": [],
   "source": []
  },
  {
   "cell_type": "code",
   "execution_count": 14,
   "metadata": {
    "ExecuteTime": {
     "end_time": "2021-06-28T08:53:12.388862Z",
     "start_time": "2021-06-28T08:53:12.229265Z"
    }
   },
   "outputs": [
    {
     "data": {
      "text/html": [
       "<div>\n",
       "<style scoped>\n",
       "    .dataframe tbody tr th:only-of-type {\n",
       "        vertical-align: middle;\n",
       "    }\n",
       "\n",
       "    .dataframe tbody tr th {\n",
       "        vertical-align: top;\n",
       "    }\n",
       "\n",
       "    .dataframe thead th {\n",
       "        text-align: right;\n",
       "    }\n",
       "</style>\n",
       "<table border=\"1\" class=\"dataframe\">\n",
       "  <thead>\n",
       "    <tr style=\"text-align: right;\">\n",
       "      <th></th>\n",
       "      <th>index</th>\n",
       "      <th>No_of_days_Visited_7_Days</th>\n",
       "    </tr>\n",
       "  </thead>\n",
       "  <tbody>\n",
       "    <tr>\n",
       "      <th>0</th>\n",
       "      <td>U100002</td>\n",
       "      <td>NaN</td>\n",
       "    </tr>\n",
       "    <tr>\n",
       "      <th>1</th>\n",
       "      <td>U100003</td>\n",
       "      <td>3.0</td>\n",
       "    </tr>\n",
       "    <tr>\n",
       "      <th>2</th>\n",
       "      <td>U100004</td>\n",
       "      <td>1.0</td>\n",
       "    </tr>\n",
       "    <tr>\n",
       "      <th>3</th>\n",
       "      <td>U100005</td>\n",
       "      <td>2.0</td>\n",
       "    </tr>\n",
       "    <tr>\n",
       "      <th>4</th>\n",
       "      <td>U100006</td>\n",
       "      <td>1.0</td>\n",
       "    </tr>\n",
       "  </tbody>\n",
       "</table>\n",
       "</div>"
      ],
      "text/plain": [
       "     index  No_of_days_Visited_7_Days\n",
       "0  U100002                        NaN\n",
       "1  U100003                        3.0\n",
       "2  U100004                        1.0\n",
       "3  U100005                        2.0\n",
       "4  U100006                        1.0"
      ]
     },
     "execution_count": 14,
     "metadata": {},
     "output_type": "execute_result"
    }
   ],
   "source": [
    "df.head()"
   ]
  },
  {
   "cell_type": "code",
   "execution_count": 15,
   "metadata": {
    "ExecuteTime": {
     "end_time": "2021-06-28T08:53:12.461052Z",
     "start_time": "2021-06-28T08:53:12.388862Z"
    }
   },
   "outputs": [],
   "source": [
    "#data[data['UserID']=='U100347']\n",
    "#days_visited"
   ]
  },
  {
   "cell_type": "code",
   "execution_count": null,
   "metadata": {
    "ExecuteTime": {
     "end_time": "2021-06-27T03:43:20.550889Z",
     "start_time": "2021-06-27T03:43:19.894890Z"
    }
   },
   "outputs": [],
   "source": []
  },
  {
   "cell_type": "code",
   "execution_count": null,
   "metadata": {
    "ExecuteTime": {
     "end_time": "2021-06-27T03:43:21.278887Z",
     "start_time": "2021-06-27T03:43:20.550889Z"
    }
   },
   "outputs": [],
   "source": []
  },
  {
   "cell_type": "code",
   "execution_count": null,
   "metadata": {},
   "outputs": [],
   "source": []
  },
  {
   "cell_type": "code",
   "execution_count": null,
   "metadata": {
    "ExecuteTime": {
     "end_time": "2021-06-26T06:36:20.593358Z",
     "start_time": "2021-06-26T06:36:20.561359Z"
    }
   },
   "outputs": [],
   "source": []
  },
  {
   "cell_type": "code",
   "execution_count": null,
   "metadata": {
    "ExecuteTime": {
     "end_time": "2021-06-26T15:45:56.329879Z",
     "start_time": "2021-06-26T15:45:56.192856Z"
    }
   },
   "outputs": [],
   "source": []
  },
  {
   "cell_type": "code",
   "execution_count": 16,
   "metadata": {
    "ExecuteTime": {
     "end_time": "2021-06-28T08:53:20.141879Z",
     "start_time": "2021-06-28T08:53:12.461052Z"
    }
   },
   "outputs": [],
   "source": [
    "sample=data[['UserID','ProductID','visit_date_time']][data['visit_date_time']>'2018-05-13']\n",
    "\n",
    "Pro_view=sample.sort_values(by='visit_date_time',ascending=False).drop_duplicates(keep='first')\n",
    "product_viewed=Pro_view['UserID'].value_counts().to_frame(name='No_Of_Products_Viewed_15_Days').reset_index(level=0)"
   ]
  },
  {
   "cell_type": "code",
   "execution_count": null,
   "metadata": {
    "ExecuteTime": {
     "end_time": "2021-06-26T16:14:19.472992Z",
     "start_time": "2021-06-26T16:14:19.457309Z"
    }
   },
   "outputs": [],
   "source": []
  },
  {
   "cell_type": "code",
   "execution_count": 17,
   "metadata": {
    "ExecuteTime": {
     "end_time": "2021-06-28T08:53:20.326335Z",
     "start_time": "2021-06-28T08:53:20.141879Z"
    }
   },
   "outputs": [],
   "source": [
    "df=df.merge(product_viewed,on='index',how='left')"
   ]
  },
  {
   "cell_type": "code",
   "execution_count": 18,
   "metadata": {
    "ExecuteTime": {
     "end_time": "2021-06-28T08:53:20.958494Z",
     "start_time": "2021-06-28T08:53:20.326335Z"
    }
   },
   "outputs": [],
   "source": [
    "vintage=data['UserID'].value_counts().to_frame(name='User_Vintage').reset_index(level=0)\n",
    "df=df.merge(vintage,on='index',how='left')"
   ]
  },
  {
   "cell_type": "code",
   "execution_count": 19,
   "metadata": {
    "ExecuteTime": {
     "end_time": "2021-06-28T08:53:20.966335Z",
     "start_time": "2021-06-28T08:53:20.958494Z"
    }
   },
   "outputs": [],
   "source": [
    "#Test=sample.value_counts().to_frame(name='value').reset_index(level=1).reset_index(level=0)"
   ]
  },
  {
   "cell_type": "code",
   "execution_count": 20,
   "metadata": {
    "ExecuteTime": {
     "end_time": "2021-06-28T08:53:24.143830Z",
     "start_time": "2021-06-28T08:53:20.966335Z"
    }
   },
   "outputs": [],
   "source": [
    "sample=data[['UserID','ProductID','visit_date_time','Activity']][data['visit_date_time']>'2018-05-13']\n",
    "ss=sample[sample['Activity']=='pageload'].sort_values(by='visit_date_time',ascending=False)"
   ]
  },
  {
   "cell_type": "code",
   "execution_count": 21,
   "metadata": {
    "ExecuteTime": {
     "end_time": "2021-06-28T08:53:25.281421Z",
     "start_time": "2021-06-28T08:53:24.143830Z"
    },
    "scrolled": true
   },
   "outputs": [],
   "source": [
    "Most_Viewed_product_15_Days=ss[['UserID','ProductID']].value_counts().to_frame('value').reset_index(level=1).reset_index(level=0).drop_duplicates(subset='UserID',keep='first').drop(columns='value')"
   ]
  },
  {
   "cell_type": "code",
   "execution_count": 22,
   "metadata": {
    "ExecuteTime": {
     "end_time": "2021-06-28T08:53:25.313006Z",
     "start_time": "2021-06-28T08:53:25.281421Z"
    }
   },
   "outputs": [],
   "source": [
    "Most_Viewed_product_15_Days.columns=['index','Most_Viewed_product_15_Days']"
   ]
  },
  {
   "cell_type": "code",
   "execution_count": 23,
   "metadata": {
    "ExecuteTime": {
     "end_time": "2021-06-28T08:53:25.409009Z",
     "start_time": "2021-06-28T08:53:25.345004Z"
    }
   },
   "outputs": [],
   "source": [
    "#values=[]\n",
    "#for ID in Test['UserID'].unique().tolist():\n",
    "    #values.append(Test[Test['UserID']==ID].max().values[1])"
   ]
  },
  {
   "cell_type": "code",
   "execution_count": 24,
   "metadata": {
    "ExecuteTime": {
     "end_time": "2021-06-28T08:53:25.441002Z",
     "start_time": "2021-06-28T08:53:25.409009Z"
    }
   },
   "outputs": [],
   "source": [
    "#most_viewed=pd.DataFrame()\n",
    "#most_viewed['index']=Test['UserID'].unique().tolist()\n",
    "\n",
    "#most_viewed['Most_Viewed_product_15_Days']=values"
   ]
  },
  {
   "cell_type": "code",
   "execution_count": 25,
   "metadata": {
    "ExecuteTime": {
     "end_time": "2021-06-28T08:53:25.513004Z",
     "start_time": "2021-06-28T08:53:25.441002Z"
    }
   },
   "outputs": [],
   "source": [
    "df=df.merge(Most_Viewed_product_15_Days,on='index',how='left')\n"
   ]
  },
  {
   "cell_type": "code",
   "execution_count": null,
   "metadata": {
    "ExecuteTime": {
     "end_time": "2021-06-26T17:28:22.452589Z",
     "start_time": "2021-06-26T17:28:22.433657Z"
    }
   },
   "outputs": [],
   "source": []
  },
  {
   "cell_type": "code",
   "execution_count": 26,
   "metadata": {
    "ExecuteTime": {
     "end_time": "2021-06-28T08:53:25.577300Z",
     "start_time": "2021-06-28T08:53:25.513004Z"
    }
   },
   "outputs": [],
   "source": [
    "df['Most_Viewed_product_15_Days']=df['Most_Viewed_product_15_Days'].astype('str').replace('nan','Product101')"
   ]
  },
  {
   "cell_type": "code",
   "execution_count": 27,
   "metadata": {
    "ExecuteTime": {
     "end_time": "2021-06-28T08:53:25.625005Z",
     "start_time": "2021-06-28T08:53:25.577300Z"
    },
    "scrolled": true
   },
   "outputs": [],
   "source": [
    "#data['UserID'].value_counts().to_frame(name='Vintage').reset_index(level=0)"
   ]
  },
  {
   "cell_type": "code",
   "execution_count": null,
   "metadata": {
    "ExecuteTime": {
     "end_time": "2021-06-26T17:08:28.903639Z",
     "start_time": "2021-06-26T17:08:28.883693Z"
    }
   },
   "outputs": [],
   "source": []
  },
  {
   "cell_type": "code",
   "execution_count": 28,
   "metadata": {
    "ExecuteTime": {
     "end_time": "2021-06-28T08:53:27.098472Z",
     "start_time": "2021-06-28T08:53:25.625005Z"
    }
   },
   "outputs": [],
   "source": [
    "most_activeOS=data[['UserID','OS']].value_counts().to_frame(name='value').reset_index(level=1).reset_index(level=0).drop_duplicates(subset='UserID',keep='first')"
   ]
  },
  {
   "cell_type": "code",
   "execution_count": 29,
   "metadata": {
    "ExecuteTime": {
     "end_time": "2021-06-28T08:53:27.114019Z",
     "start_time": "2021-06-28T08:53:27.098472Z"
    }
   },
   "outputs": [],
   "source": [
    "most_activeos=most_activeOS[['UserID','OS']]\n",
    "most_activeos.columns=['index','OS']"
   ]
  },
  {
   "cell_type": "code",
   "execution_count": null,
   "metadata": {
    "ExecuteTime": {
     "end_time": "2021-06-26T16:20:07.241939Z",
     "start_time": "2021-06-26T16:20:07.209939Z"
    }
   },
   "outputs": [],
   "source": []
  },
  {
   "cell_type": "code",
   "execution_count": null,
   "metadata": {},
   "outputs": [],
   "source": []
  },
  {
   "cell_type": "code",
   "execution_count": null,
   "metadata": {
    "ExecuteTime": {
     "end_time": "2021-06-26T16:17:00.533405Z",
     "start_time": "2021-06-26T16:14:32.859240Z"
    }
   },
   "outputs": [],
   "source": []
  },
  {
   "cell_type": "code",
   "execution_count": null,
   "metadata": {
    "ExecuteTime": {
     "end_time": "2021-06-26T16:17:00.533405Z",
     "start_time": "2021-06-26T16:14:13.222Z"
    }
   },
   "outputs": [],
   "source": []
  },
  {
   "cell_type": "code",
   "execution_count": 30,
   "metadata": {
    "ExecuteTime": {
     "end_time": "2021-06-28T08:53:27.210020Z",
     "start_time": "2021-06-28T08:53:27.114019Z"
    }
   },
   "outputs": [],
   "source": [
    "df=df.merge(most_activeos,on='index',how='left')"
   ]
  },
  {
   "cell_type": "code",
   "execution_count": null,
   "metadata": {},
   "outputs": [],
   "source": []
  },
  {
   "cell_type": "code",
   "execution_count": null,
   "metadata": {},
   "outputs": [],
   "source": []
  },
  {
   "cell_type": "code",
   "execution_count": 31,
   "metadata": {
    "ExecuteTime": {
     "end_time": "2021-06-28T08:53:27.498017Z",
     "start_time": "2021-06-28T08:53:27.210020Z"
    }
   },
   "outputs": [],
   "source": [
    "\n",
    "Test3=data[['UserID','Activity','visit_date_time','ProductID']]"
   ]
  },
  {
   "cell_type": "code",
   "execution_count": 32,
   "metadata": {
    "ExecuteTime": {
     "end_time": "2021-06-28T08:53:30.605850Z",
     "start_time": "2021-06-28T08:53:27.498017Z"
    }
   },
   "outputs": [],
   "source": [
    "ss=Test3[Test3['Activity']=='pageload'].sort_values(by='visit_date_time',ascending=False).drop_duplicates(subset='UserID',keep='first')"
   ]
  },
  {
   "cell_type": "code",
   "execution_count": 33,
   "metadata": {
    "ExecuteTime": {
     "end_time": "2021-06-28T08:53:30.773722Z",
     "start_time": "2021-06-28T08:53:30.605850Z"
    }
   },
   "outputs": [
    {
     "data": {
      "text/html": [
       "<div>\n",
       "<style scoped>\n",
       "    .dataframe tbody tr th:only-of-type {\n",
       "        vertical-align: middle;\n",
       "    }\n",
       "\n",
       "    .dataframe tbody tr th {\n",
       "        vertical-align: top;\n",
       "    }\n",
       "\n",
       "    .dataframe thead th {\n",
       "        text-align: right;\n",
       "    }\n",
       "</style>\n",
       "<table border=\"1\" class=\"dataframe\">\n",
       "  <thead>\n",
       "    <tr style=\"text-align: right;\">\n",
       "      <th></th>\n",
       "      <th>UserID</th>\n",
       "      <th>Activity</th>\n",
       "      <th>visit_date_time</th>\n",
       "      <th>ProductID</th>\n",
       "    </tr>\n",
       "  </thead>\n",
       "  <tbody>\n",
       "    <tr>\n",
       "      <th>2201536</th>\n",
       "      <td>U136965</td>\n",
       "      <td>pageload</td>\n",
       "      <td>2018-05-27 23:59:50.502</td>\n",
       "      <td>pr100431</td>\n",
       "    </tr>\n",
       "    <tr>\n",
       "      <th>5572200</th>\n",
       "      <td>U104305</td>\n",
       "      <td>pageload</td>\n",
       "      <td>2018-05-27 23:59:10.551</td>\n",
       "      <td>pr100102</td>\n",
       "    </tr>\n",
       "    <tr>\n",
       "      <th>2710310</th>\n",
       "      <td>U104304</td>\n",
       "      <td>pageload</td>\n",
       "      <td>2018-05-27 23:59:10.551</td>\n",
       "      <td>pr100275</td>\n",
       "    </tr>\n",
       "    <tr>\n",
       "      <th>2188125</th>\n",
       "      <td>U104296</td>\n",
       "      <td>pageload</td>\n",
       "      <td>2018-05-27 23:55:39.057</td>\n",
       "      <td>pr100390</td>\n",
       "    </tr>\n",
       "    <tr>\n",
       "      <th>1287857</th>\n",
       "      <td>U104309</td>\n",
       "      <td>pageload</td>\n",
       "      <td>2018-05-27 23:47:47.478</td>\n",
       "      <td>pr100076</td>\n",
       "    </tr>\n",
       "    <tr>\n",
       "      <th>...</th>\n",
       "      <td>...</td>\n",
       "      <td>...</td>\n",
       "      <td>...</td>\n",
       "      <td>...</td>\n",
       "    </tr>\n",
       "    <tr>\n",
       "      <th>1716590</th>\n",
       "      <td>U121730</td>\n",
       "      <td>pageload</td>\n",
       "      <td>2018-05-07 00:06:59.266</td>\n",
       "      <td>pr100166</td>\n",
       "    </tr>\n",
       "    <tr>\n",
       "      <th>4183846</th>\n",
       "      <td>U134230</td>\n",
       "      <td>pageload</td>\n",
       "      <td>2018-05-07 00:06:48.110</td>\n",
       "      <td>pr100403</td>\n",
       "    </tr>\n",
       "    <tr>\n",
       "      <th>248653</th>\n",
       "      <td>U136956</td>\n",
       "      <td>pageload</td>\n",
       "      <td>2018-05-07 00:03:36.548</td>\n",
       "      <td>pr100312</td>\n",
       "    </tr>\n",
       "    <tr>\n",
       "      <th>2580265</th>\n",
       "      <td>U136955</td>\n",
       "      <td>pageload</td>\n",
       "      <td>2018-05-07 00:03:36.548</td>\n",
       "      <td>pr101522</td>\n",
       "    </tr>\n",
       "    <tr>\n",
       "      <th>855563</th>\n",
       "      <td>U136963</td>\n",
       "      <td>pageload</td>\n",
       "      <td>2018-05-07 00:01:31.872</td>\n",
       "      <td>pr100166</td>\n",
       "    </tr>\n",
       "  </tbody>\n",
       "</table>\n",
       "<p>30331 rows × 4 columns</p>\n",
       "</div>"
      ],
      "text/plain": [
       "          UserID  Activity         visit_date_time ProductID\n",
       "2201536  U136965  pageload 2018-05-27 23:59:50.502  pr100431\n",
       "5572200  U104305  pageload 2018-05-27 23:59:10.551  pr100102\n",
       "2710310  U104304  pageload 2018-05-27 23:59:10.551  pr100275\n",
       "2188125  U104296  pageload 2018-05-27 23:55:39.057  pr100390\n",
       "1287857  U104309  pageload 2018-05-27 23:47:47.478  pr100076\n",
       "...          ...       ...                     ...       ...\n",
       "1716590  U121730  pageload 2018-05-07 00:06:59.266  pr100166\n",
       "4183846  U134230  pageload 2018-05-07 00:06:48.110  pr100403\n",
       "248653   U136956  pageload 2018-05-07 00:03:36.548  pr100312\n",
       "2580265  U136955  pageload 2018-05-07 00:03:36.548  pr101522\n",
       "855563   U136963  pageload 2018-05-07 00:01:31.872  pr100166\n",
       "\n",
       "[30331 rows x 4 columns]"
      ]
     },
     "execution_count": 33,
     "metadata": {},
     "output_type": "execute_result"
    }
   ],
   "source": [
    "ss"
   ]
  },
  {
   "cell_type": "code",
   "execution_count": 34,
   "metadata": {
    "ExecuteTime": {
     "end_time": "2021-06-28T08:53:30.789716Z",
     "start_time": "2021-06-28T08:53:30.773722Z"
    }
   },
   "outputs": [],
   "source": [
    "Recently_Viewed_Product=ss[['UserID','ProductID']]"
   ]
  },
  {
   "cell_type": "code",
   "execution_count": 35,
   "metadata": {
    "ExecuteTime": {
     "end_time": "2021-06-28T08:53:30.837714Z",
     "start_time": "2021-06-28T08:53:30.789716Z"
    },
    "scrolled": true
   },
   "outputs": [],
   "source": [
    "Recently_Viewed_Product.columns=['index','Recently_Viewed_Product']"
   ]
  },
  {
   "cell_type": "code",
   "execution_count": null,
   "metadata": {
    "ExecuteTime": {
     "end_time": "2021-06-26T17:24:37.229755Z",
     "start_time": "2021-06-26T17:24:37.187866Z"
    }
   },
   "outputs": [],
   "source": []
  },
  {
   "cell_type": "code",
   "execution_count": 36,
   "metadata": {
    "ExecuteTime": {
     "end_time": "2021-06-28T08:53:30.901714Z",
     "start_time": "2021-06-28T08:53:30.837714Z"
    },
    "scrolled": true
   },
   "outputs": [],
   "source": [
    "#val=[]\n",
    "#for ID in ss['UserID'].unique().tolist():\n",
    "    #try:\n",
    "        #temp_dataset=ss[ss['UserID']==ID]\n",
    "        #val.append(temp_dataset[temp_dataset['visit_date_time']==temp_dataset['visit_date_time'].max()]['ProductID'].values[0])\n",
    "    #except IndexError:\n",
    "        #val.append(ss[ss['UserID']==ID]['ProductID'].values[0])"
   ]
  },
  {
   "cell_type": "code",
   "execution_count": null,
   "metadata": {
    "ExecuteTime": {
     "end_time": "2021-06-26T14:10:08.633298Z",
     "start_time": "2021-06-26T14:03:21.442Z"
    }
   },
   "outputs": [],
   "source": []
  },
  {
   "cell_type": "code",
   "execution_count": 37,
   "metadata": {
    "ExecuteTime": {
     "end_time": "2021-06-28T08:53:31.410048Z",
     "start_time": "2021-06-28T08:53:30.901714Z"
    }
   },
   "outputs": [],
   "source": [
    "#Recently_Viewed_Product=pd.DataFrame()\n",
    "#Recently_Viewed_Product['index']=ss['UserID'].unique().tolist()\n",
    "\n",
    "#Recently_Viewed_Product['Recently_Viewed_Product']=val"
   ]
  },
  {
   "cell_type": "code",
   "execution_count": 38,
   "metadata": {
    "ExecuteTime": {
     "end_time": "2021-06-28T08:53:32.419909Z",
     "start_time": "2021-06-28T08:53:31.410048Z"
    }
   },
   "outputs": [],
   "source": [
    "df=df.merge(Recently_Viewed_Product,on='index',how='left')"
   ]
  },
  {
   "cell_type": "code",
   "execution_count": 39,
   "metadata": {
    "ExecuteTime": {
     "end_time": "2021-06-28T08:53:33.212679Z",
     "start_time": "2021-06-28T08:53:32.419909Z"
    }
   },
   "outputs": [],
   "source": [
    "df['Recently_Viewed_Product']=df['Recently_Viewed_Product'].astype('str').replace('nan','Product101')\n"
   ]
  },
  {
   "cell_type": "code",
   "execution_count": null,
   "metadata": {},
   "outputs": [],
   "source": []
  },
  {
   "cell_type": "code",
   "execution_count": null,
   "metadata": {},
   "outputs": [],
   "source": []
  },
  {
   "cell_type": "code",
   "execution_count": 40,
   "metadata": {
    "ExecuteTime": {
     "end_time": "2021-06-28T08:53:34.020924Z",
     "start_time": "2021-06-28T08:53:33.212679Z"
    }
   },
   "outputs": [],
   "source": [
    "Test4=data[['UserID','Activity','visit_date_time']]"
   ]
  },
  {
   "cell_type": "code",
   "execution_count": 41,
   "metadata": {
    "ExecuteTime": {
     "end_time": "2021-06-28T08:53:36.265010Z",
     "start_time": "2021-06-28T08:53:34.021704Z"
    }
   },
   "outputs": [],
   "source": [
    "Test4=data[['UserID','Activity']][data['visit_date_time']>'2018-05-21']"
   ]
  },
  {
   "cell_type": "code",
   "execution_count": 42,
   "metadata": {
    "ExecuteTime": {
     "end_time": "2021-06-28T08:53:38.359524Z",
     "start_time": "2021-06-28T08:53:36.494899Z"
    }
   },
   "outputs": [],
   "source": [
    "pageload_7_days=Test4[Test4['Activity']=='pageload'].value_counts().to_frame('Pageloads_last_7_days').reset_index(level=1).reset_index(level=0).drop(columns='Activity')"
   ]
  },
  {
   "cell_type": "code",
   "execution_count": 43,
   "metadata": {
    "ExecuteTime": {
     "end_time": "2021-06-28T08:53:39.184018Z",
     "start_time": "2021-06-28T08:53:38.359524Z"
    }
   },
   "outputs": [],
   "source": [
    "pageload_7_days.columns=['index','Pageloads_last_7_days']"
   ]
  },
  {
   "cell_type": "code",
   "execution_count": 44,
   "metadata": {
    "ExecuteTime": {
     "end_time": "2021-06-28T08:53:40.433239Z",
     "start_time": "2021-06-28T08:53:39.184018Z"
    }
   },
   "outputs": [],
   "source": [
    "df=df.merge(pageload_7_days,on='index',how='left')"
   ]
  },
  {
   "cell_type": "code",
   "execution_count": null,
   "metadata": {},
   "outputs": [],
   "source": []
  },
  {
   "cell_type": "code",
   "execution_count": 45,
   "metadata": {
    "ExecuteTime": {
     "end_time": "2021-06-28T08:53:42.115444Z",
     "start_time": "2021-06-28T08:53:40.433239Z"
    }
   },
   "outputs": [],
   "source": [
    "click_7_days=Test4[Test4['Activity']=='click'].value_counts().to_frame('Clicks_last_7_days').reset_index(level=1).reset_index(level=0).drop(columns='Activity')"
   ]
  },
  {
   "cell_type": "code",
   "execution_count": 46,
   "metadata": {
    "ExecuteTime": {
     "end_time": "2021-06-28T08:53:42.774845Z",
     "start_time": "2021-06-28T08:53:42.115444Z"
    }
   },
   "outputs": [],
   "source": [
    "click_7_days.columns=['index','Clicks_last_7_days']"
   ]
  },
  {
   "cell_type": "code",
   "execution_count": 47,
   "metadata": {
    "ExecuteTime": {
     "end_time": "2021-06-28T08:53:43.778801Z",
     "start_time": "2021-06-28T08:53:42.774845Z"
    }
   },
   "outputs": [],
   "source": [
    "df=df.merge(click_7_days,on='index',how='left')"
   ]
  },
  {
   "cell_type": "code",
   "execution_count": 48,
   "metadata": {
    "ExecuteTime": {
     "end_time": "2021-06-28T08:53:45.055011Z",
     "start_time": "2021-06-28T08:53:43.786823Z"
    }
   },
   "outputs": [
    {
     "data": {
      "text/html": [
       "<div>\n",
       "<style scoped>\n",
       "    .dataframe tbody tr th:only-of-type {\n",
       "        vertical-align: middle;\n",
       "    }\n",
       "\n",
       "    .dataframe tbody tr th {\n",
       "        vertical-align: top;\n",
       "    }\n",
       "\n",
       "    .dataframe thead th {\n",
       "        text-align: right;\n",
       "    }\n",
       "</style>\n",
       "<table border=\"1\" class=\"dataframe\">\n",
       "  <thead>\n",
       "    <tr style=\"text-align: right;\">\n",
       "      <th></th>\n",
       "      <th>index</th>\n",
       "      <th>No_of_days_Visited_7_Days</th>\n",
       "      <th>No_Of_Products_Viewed_15_Days</th>\n",
       "      <th>User_Vintage</th>\n",
       "      <th>Most_Viewed_product_15_Days</th>\n",
       "      <th>OS</th>\n",
       "      <th>Recently_Viewed_Product</th>\n",
       "      <th>Pageloads_last_7_days</th>\n",
       "      <th>Clicks_last_7_days</th>\n",
       "    </tr>\n",
       "  </thead>\n",
       "  <tbody>\n",
       "    <tr>\n",
       "      <th>0</th>\n",
       "      <td>U100002</td>\n",
       "      <td>NaN</td>\n",
       "      <td>5.0</td>\n",
       "      <td>5</td>\n",
       "      <td>pr100258</td>\n",
       "      <td>android</td>\n",
       "      <td>pr100258</td>\n",
       "      <td>NaN</td>\n",
       "      <td>NaN</td>\n",
       "    </tr>\n",
       "    <tr>\n",
       "      <th>1</th>\n",
       "      <td>U100003</td>\n",
       "      <td>3.0</td>\n",
       "      <td>4.0</td>\n",
       "      <td>4</td>\n",
       "      <td>pr100079</td>\n",
       "      <td>windows</td>\n",
       "      <td>pr100079</td>\n",
       "      <td>1.0</td>\n",
       "      <td>2.0</td>\n",
       "    </tr>\n",
       "    <tr>\n",
       "      <th>2</th>\n",
       "      <td>U100004</td>\n",
       "      <td>1.0</td>\n",
       "      <td>28.0</td>\n",
       "      <td>30</td>\n",
       "      <td>pr100753</td>\n",
       "      <td>windows</td>\n",
       "      <td>Product101</td>\n",
       "      <td>1.0</td>\n",
       "      <td>NaN</td>\n",
       "    </tr>\n",
       "    <tr>\n",
       "      <th>3</th>\n",
       "      <td>U100005</td>\n",
       "      <td>2.0</td>\n",
       "      <td>5.0</td>\n",
       "      <td>10</td>\n",
       "      <td>pr102072</td>\n",
       "      <td>android</td>\n",
       "      <td>pr100234</td>\n",
       "      <td>1.0</td>\n",
       "      <td>NaN</td>\n",
       "    </tr>\n",
       "    <tr>\n",
       "      <th>4</th>\n",
       "      <td>U100006</td>\n",
       "      <td>1.0</td>\n",
       "      <td>1.0</td>\n",
       "      <td>1</td>\n",
       "      <td>pr101111</td>\n",
       "      <td>android</td>\n",
       "      <td>pr101111</td>\n",
       "      <td>1.0</td>\n",
       "      <td>NaN</td>\n",
       "    </tr>\n",
       "  </tbody>\n",
       "</table>\n",
       "</div>"
      ],
      "text/plain": [
       "     index  No_of_days_Visited_7_Days  No_Of_Products_Viewed_15_Days  \\\n",
       "0  U100002                        NaN                            5.0   \n",
       "1  U100003                        3.0                            4.0   \n",
       "2  U100004                        1.0                           28.0   \n",
       "3  U100005                        2.0                            5.0   \n",
       "4  U100006                        1.0                            1.0   \n",
       "\n",
       "   User_Vintage Most_Viewed_product_15_Days       OS Recently_Viewed_Product  \\\n",
       "0             5                    pr100258  android                pr100258   \n",
       "1             4                    pr100079  windows                pr100079   \n",
       "2            30                    pr100753  windows              Product101   \n",
       "3            10                    pr102072  android                pr100234   \n",
       "4             1                    pr101111  android                pr101111   \n",
       "\n",
       "   Pageloads_last_7_days  Clicks_last_7_days  \n",
       "0                    NaN                 NaN  \n",
       "1                    1.0                 2.0  \n",
       "2                    1.0                 NaN  \n",
       "3                    1.0                 NaN  \n",
       "4                    1.0                 NaN  "
      ]
     },
     "execution_count": 48,
     "metadata": {},
     "output_type": "execute_result"
    }
   ],
   "source": [
    "df.head()"
   ]
  },
  {
   "cell_type": "code",
   "execution_count": 49,
   "metadata": {
    "ExecuteTime": {
     "end_time": "2021-06-28T08:53:45.395975Z",
     "start_time": "2021-06-28T08:53:45.055011Z"
    }
   },
   "outputs": [],
   "source": [
    "df.columns=submission.columns.tolist()"
   ]
  },
  {
   "cell_type": "code",
   "execution_count": 50,
   "metadata": {
    "ExecuteTime": {
     "end_time": "2021-06-28T08:53:46.019860Z",
     "start_time": "2021-06-28T08:53:45.395975Z"
    }
   },
   "outputs": [
    {
     "data": {
      "text/html": [
       "<div>\n",
       "<style scoped>\n",
       "    .dataframe tbody tr th:only-of-type {\n",
       "        vertical-align: middle;\n",
       "    }\n",
       "\n",
       "    .dataframe tbody tr th {\n",
       "        vertical-align: top;\n",
       "    }\n",
       "\n",
       "    .dataframe thead th {\n",
       "        text-align: right;\n",
       "    }\n",
       "</style>\n",
       "<table border=\"1\" class=\"dataframe\">\n",
       "  <thead>\n",
       "    <tr style=\"text-align: right;\">\n",
       "      <th></th>\n",
       "      <th>UserID</th>\n",
       "      <th>No_of_days_Visited_7_Days</th>\n",
       "      <th>No_Of_Products_Viewed_15_Days</th>\n",
       "      <th>User_Vintage</th>\n",
       "      <th>Most_Viewed_product_15_Days</th>\n",
       "      <th>Most_Active_OS</th>\n",
       "      <th>Recently_Viewed_Product</th>\n",
       "      <th>Pageloads_last_7_days</th>\n",
       "      <th>Clicks_last_7_days</th>\n",
       "    </tr>\n",
       "  </thead>\n",
       "  <tbody>\n",
       "    <tr>\n",
       "      <th>0</th>\n",
       "      <td>U100002</td>\n",
       "      <td>NaN</td>\n",
       "      <td>5.0</td>\n",
       "      <td>5</td>\n",
       "      <td>pr100258</td>\n",
       "      <td>android</td>\n",
       "      <td>pr100258</td>\n",
       "      <td>NaN</td>\n",
       "      <td>NaN</td>\n",
       "    </tr>\n",
       "    <tr>\n",
       "      <th>1</th>\n",
       "      <td>U100003</td>\n",
       "      <td>3.0</td>\n",
       "      <td>4.0</td>\n",
       "      <td>4</td>\n",
       "      <td>pr100079</td>\n",
       "      <td>windows</td>\n",
       "      <td>pr100079</td>\n",
       "      <td>1.0</td>\n",
       "      <td>2.0</td>\n",
       "    </tr>\n",
       "    <tr>\n",
       "      <th>2</th>\n",
       "      <td>U100004</td>\n",
       "      <td>1.0</td>\n",
       "      <td>28.0</td>\n",
       "      <td>30</td>\n",
       "      <td>pr100753</td>\n",
       "      <td>windows</td>\n",
       "      <td>Product101</td>\n",
       "      <td>1.0</td>\n",
       "      <td>NaN</td>\n",
       "    </tr>\n",
       "    <tr>\n",
       "      <th>3</th>\n",
       "      <td>U100005</td>\n",
       "      <td>2.0</td>\n",
       "      <td>5.0</td>\n",
       "      <td>10</td>\n",
       "      <td>pr102072</td>\n",
       "      <td>android</td>\n",
       "      <td>pr100234</td>\n",
       "      <td>1.0</td>\n",
       "      <td>NaN</td>\n",
       "    </tr>\n",
       "    <tr>\n",
       "      <th>4</th>\n",
       "      <td>U100006</td>\n",
       "      <td>1.0</td>\n",
       "      <td>1.0</td>\n",
       "      <td>1</td>\n",
       "      <td>pr101111</td>\n",
       "      <td>android</td>\n",
       "      <td>pr101111</td>\n",
       "      <td>1.0</td>\n",
       "      <td>NaN</td>\n",
       "    </tr>\n",
       "  </tbody>\n",
       "</table>\n",
       "</div>"
      ],
      "text/plain": [
       "    UserID  No_of_days_Visited_7_Days  No_Of_Products_Viewed_15_Days  \\\n",
       "0  U100002                        NaN                            5.0   \n",
       "1  U100003                        3.0                            4.0   \n",
       "2  U100004                        1.0                           28.0   \n",
       "3  U100005                        2.0                            5.0   \n",
       "4  U100006                        1.0                            1.0   \n",
       "\n",
       "   User_Vintage Most_Viewed_product_15_Days Most_Active_OS  \\\n",
       "0             5                    pr100258        android   \n",
       "1             4                    pr100079        windows   \n",
       "2            30                    pr100753        windows   \n",
       "3            10                    pr102072        android   \n",
       "4             1                    pr101111        android   \n",
       "\n",
       "  Recently_Viewed_Product  Pageloads_last_7_days  Clicks_last_7_days  \n",
       "0                pr100258                    NaN                 NaN  \n",
       "1                pr100079                    1.0                 2.0  \n",
       "2              Product101                    1.0                 NaN  \n",
       "3                pr100234                    1.0                 NaN  \n",
       "4                pr101111                    1.0                 NaN  "
      ]
     },
     "execution_count": 50,
     "metadata": {},
     "output_type": "execute_result"
    }
   ],
   "source": [
    "df.head()"
   ]
  },
  {
   "cell_type": "code",
   "execution_count": 51,
   "metadata": {
    "ExecuteTime": {
     "end_time": "2021-06-28T08:53:48.571069Z",
     "start_time": "2021-06-28T08:53:46.019860Z"
    }
   },
   "outputs": [],
   "source": [
    "df['No_of_days_Visited_7_Days']=df['No_of_days_Visited_7_Days'].fillna(0).astype('int')\n",
    "df['No_Of_Products_Viewed_15_Days']=df['No_Of_Products_Viewed_15_Days'].fillna(0).astype('int')\n",
    "\n",
    "df['Pageloads_last_7_days']=df['Pageloads_last_7_days'].fillna(0).astype('int')\n",
    "df['Clicks_last_7_days']=df['Clicks_last_7_days'].fillna(0).astype('int')"
   ]
  },
  {
   "cell_type": "code",
   "execution_count": 52,
   "metadata": {
    "ExecuteTime": {
     "end_time": "2021-06-28T08:53:51.487833Z",
     "start_time": "2021-06-28T08:53:48.571069Z"
    }
   },
   "outputs": [],
   "source": [
    "df.to_csv(\"submission_file_4.csv\",index=False)"
   ]
  },
  {
   "cell_type": "code",
   "execution_count": null,
   "metadata": {
    "ExecuteTime": {
     "end_time": "2021-06-28T08:17:25.999156Z",
     "start_time": "2021-06-28T08:17:25.559187Z"
    }
   },
   "outputs": [],
   "source": []
  },
  {
   "cell_type": "code",
   "execution_count": null,
   "metadata": {
    "ExecuteTime": {
     "end_time": "2021-06-29T14:30:09.589130Z",
     "start_time": "2021-06-29T14:30:08.368824Z"
    }
   },
   "outputs": [],
   "source": []
  },
  {
   "cell_type": "code",
   "execution_count": null,
   "metadata": {},
   "outputs": [],
   "source": []
  }
 ],
 "metadata": {
  "kernelspec": {
   "display_name": "Python 3",
   "language": "python",
   "name": "python3"
  },
  "language_info": {
   "codemirror_mode": {
    "name": "ipython",
    "version": 3
   },
   "file_extension": ".py",
   "mimetype": "text/x-python",
   "name": "python",
   "nbconvert_exporter": "python",
   "pygments_lexer": "ipython3",
   "version": "3.7.5"
  },
  "varInspector": {
   "cols": {
    "lenName": 16,
    "lenType": 16,
    "lenVar": 40
   },
   "kernels_config": {
    "python": {
     "delete_cmd_postfix": "",
     "delete_cmd_prefix": "del ",
     "library": "var_list.py",
     "varRefreshCmd": "print(var_dic_list())"
    },
    "r": {
     "delete_cmd_postfix": ") ",
     "delete_cmd_prefix": "rm(",
     "library": "var_list.r",
     "varRefreshCmd": "cat(var_dic_list()) "
    }
   },
   "types_to_exclude": [
    "module",
    "function",
    "builtin_function_or_method",
    "instance",
    "_Feature"
   ],
   "window_display": false
  }
 },
 "nbformat": 4,
 "nbformat_minor": 2
}
