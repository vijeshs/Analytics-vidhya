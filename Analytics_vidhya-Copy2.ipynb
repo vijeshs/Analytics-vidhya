{
 "cells": [
  {
   "cell_type": "code",
   "execution_count": 1,
   "metadata": {
    "ExecuteTime": {
     "end_time": "2021-05-30T03:19:47.175865Z",
     "start_time": "2021-05-30T03:19:44.614290Z"
    }
   },
   "outputs": [
    {
     "name": "stderr",
     "output_type": "stream",
     "text": [
      "C:\\Users\\VIJESH\\AppData\\Local\\Continuum\\anaconda3\\lib\\site-packages\\statsmodels\\tools\\_testing.py:19: FutureWarning: pandas.util.testing is deprecated. Use the functions in the public API at pandas.testing instead.\n",
      "  import pandas.util.testing as tm\n"
     ]
    }
   ],
   "source": [
    "import pandas as pd\n",
    "import seaborn as sns"
   ]
  },
  {
   "cell_type": "code",
   "execution_count": 59,
   "metadata": {
    "ExecuteTime": {
     "end_time": "2021-05-30T06:31:55.418896Z",
     "start_time": "2021-05-30T06:31:54.839225Z"
    }
   },
   "outputs": [],
   "source": [
    "train=pd.read_csv('train_s3TEQDk.csv')\n",
    "test=pd.read_csv('test_mSzZ8RL.csv')"
   ]
  },
  {
   "cell_type": "code",
   "execution_count": 60,
   "metadata": {
    "ExecuteTime": {
     "end_time": "2021-05-30T06:31:56.458147Z",
     "start_time": "2021-05-30T06:31:56.429212Z"
    }
   },
   "outputs": [
    {
     "data": {
      "text/html": [
       "<div>\n",
       "<style scoped>\n",
       "    .dataframe tbody tr th:only-of-type {\n",
       "        vertical-align: middle;\n",
       "    }\n",
       "\n",
       "    .dataframe tbody tr th {\n",
       "        vertical-align: top;\n",
       "    }\n",
       "\n",
       "    .dataframe thead th {\n",
       "        text-align: right;\n",
       "    }\n",
       "</style>\n",
       "<table border=\"1\" class=\"dataframe\">\n",
       "  <thead>\n",
       "    <tr style=\"text-align: right;\">\n",
       "      <th></th>\n",
       "      <th>ID</th>\n",
       "      <th>Gender</th>\n",
       "      <th>Age</th>\n",
       "      <th>Region_Code</th>\n",
       "      <th>Occupation</th>\n",
       "      <th>Channel_Code</th>\n",
       "      <th>Vintage</th>\n",
       "      <th>Credit_Product</th>\n",
       "      <th>Avg_Account_Balance</th>\n",
       "      <th>Is_Active</th>\n",
       "      <th>Is_Lead</th>\n",
       "    </tr>\n",
       "  </thead>\n",
       "  <tbody>\n",
       "    <tr>\n",
       "      <th>0</th>\n",
       "      <td>NNVBBKZB</td>\n",
       "      <td>Female</td>\n",
       "      <td>73</td>\n",
       "      <td>RG268</td>\n",
       "      <td>Other</td>\n",
       "      <td>X3</td>\n",
       "      <td>43</td>\n",
       "      <td>No</td>\n",
       "      <td>1045696</td>\n",
       "      <td>No</td>\n",
       "      <td>0</td>\n",
       "    </tr>\n",
       "    <tr>\n",
       "      <th>1</th>\n",
       "      <td>IDD62UNG</td>\n",
       "      <td>Female</td>\n",
       "      <td>30</td>\n",
       "      <td>RG277</td>\n",
       "      <td>Salaried</td>\n",
       "      <td>X1</td>\n",
       "      <td>32</td>\n",
       "      <td>No</td>\n",
       "      <td>581988</td>\n",
       "      <td>No</td>\n",
       "      <td>0</td>\n",
       "    </tr>\n",
       "    <tr>\n",
       "      <th>2</th>\n",
       "      <td>HD3DSEMC</td>\n",
       "      <td>Female</td>\n",
       "      <td>56</td>\n",
       "      <td>RG268</td>\n",
       "      <td>Self_Employed</td>\n",
       "      <td>X3</td>\n",
       "      <td>26</td>\n",
       "      <td>No</td>\n",
       "      <td>1484315</td>\n",
       "      <td>Yes</td>\n",
       "      <td>0</td>\n",
       "    </tr>\n",
       "    <tr>\n",
       "      <th>3</th>\n",
       "      <td>BF3NC7KV</td>\n",
       "      <td>Male</td>\n",
       "      <td>34</td>\n",
       "      <td>RG270</td>\n",
       "      <td>Salaried</td>\n",
       "      <td>X1</td>\n",
       "      <td>19</td>\n",
       "      <td>No</td>\n",
       "      <td>470454</td>\n",
       "      <td>No</td>\n",
       "      <td>0</td>\n",
       "    </tr>\n",
       "    <tr>\n",
       "      <th>4</th>\n",
       "      <td>TEASRWXV</td>\n",
       "      <td>Female</td>\n",
       "      <td>30</td>\n",
       "      <td>RG282</td>\n",
       "      <td>Salaried</td>\n",
       "      <td>X1</td>\n",
       "      <td>33</td>\n",
       "      <td>No</td>\n",
       "      <td>886787</td>\n",
       "      <td>No</td>\n",
       "      <td>0</td>\n",
       "    </tr>\n",
       "  </tbody>\n",
       "</table>\n",
       "</div>"
      ],
      "text/plain": [
       "         ID  Gender  Age Region_Code     Occupation Channel_Code  Vintage  \\\n",
       "0  NNVBBKZB  Female   73       RG268          Other           X3       43   \n",
       "1  IDD62UNG  Female   30       RG277       Salaried           X1       32   \n",
       "2  HD3DSEMC  Female   56       RG268  Self_Employed           X3       26   \n",
       "3  BF3NC7KV    Male   34       RG270       Salaried           X1       19   \n",
       "4  TEASRWXV  Female   30       RG282       Salaried           X1       33   \n",
       "\n",
       "  Credit_Product  Avg_Account_Balance Is_Active  Is_Lead  \n",
       "0             No              1045696        No        0  \n",
       "1             No               581988        No        0  \n",
       "2             No              1484315       Yes        0  \n",
       "3             No               470454        No        0  \n",
       "4             No               886787        No        0  "
      ]
     },
     "execution_count": 60,
     "metadata": {},
     "output_type": "execute_result"
    }
   ],
   "source": [
    "train.head()"
   ]
  },
  {
   "cell_type": "code",
   "execution_count": 61,
   "metadata": {
    "ExecuteTime": {
     "end_time": "2021-05-30T06:31:57.437175Z",
     "start_time": "2021-05-30T06:31:57.423828Z"
    }
   },
   "outputs": [],
   "source": [
    "import numpy as np"
   ]
  },
  {
   "cell_type": "code",
   "execution_count": 68,
   "metadata": {
    "ExecuteTime": {
     "end_time": "2021-05-30T06:32:29.909115Z",
     "start_time": "2021-05-30T06:32:29.869567Z"
    }
   },
   "outputs": [],
   "source": [
    "train['Avg_Account_Balance']=np.log1p(train['Avg_Account_Balance'])\n",
    "test['Avg_Account_Balance']=np.log1p(test['Avg_Account_Balance'])\n"
   ]
  },
  {
   "cell_type": "code",
   "execution_count": null,
   "metadata": {},
   "outputs": [],
   "source": []
  },
  {
   "cell_type": "code",
   "execution_count": 63,
   "metadata": {
    "ExecuteTime": {
     "end_time": "2021-05-30T06:31:59.524793Z",
     "start_time": "2021-05-30T06:31:59.401074Z"
    }
   },
   "outputs": [],
   "source": [
    "train=train.fillna('Yes')\n",
    "test=test.fillna('Yes')"
   ]
  },
  {
   "cell_type": "code",
   "execution_count": null,
   "metadata": {
    "ExecuteTime": {
     "end_time": "2021-05-30T06:32:00.820608Z",
     "start_time": "2021-05-30T06:32:00.602909Z"
    }
   },
   "outputs": [],
   "source": []
  },
  {
   "cell_type": "code",
   "execution_count": 65,
   "metadata": {
    "ExecuteTime": {
     "end_time": "2021-05-30T06:32:01.833141Z",
     "start_time": "2021-05-30T06:32:01.819449Z"
    }
   },
   "outputs": [],
   "source": [
    "num_cols=['Age','Vintage']\n",
    "cat_cols=[col for col in train.columns if col  not in num_cols +['ID','Is_Lead']]"
   ]
  },
  {
   "cell_type": "code",
   "execution_count": 66,
   "metadata": {
    "ExecuteTime": {
     "end_time": "2021-05-30T06:32:03.277761Z",
     "start_time": "2021-05-30T06:32:02.855945Z"
    }
   },
   "outputs": [],
   "source": [
    "from sklearn.preprocessing import LabelEncoder\n",
    "for col in cat_cols:\n",
    "    le = LabelEncoder()\n",
    "    train[col] = le.fit_transform(train[col])\n",
    "    test[col] = le.transform(test[col])\n"
   ]
  },
  {
   "cell_type": "code",
   "execution_count": 12,
   "metadata": {
    "ExecuteTime": {
     "end_time": "2021-05-30T03:19:49.422087Z",
     "start_time": "2021-05-30T03:19:49.089358Z"
    }
   },
   "outputs": [],
   "source": [
    "from sklearn.preprocessing import OneHotEncoder\n",
    "encoder=OneHotEncoder()\n",
    "encoded =encoder.fit_transform(train[cat_cols]).toarray()\n",
    "encoded=pd.DataFrame(encoded)\n",
    "encoded_test=encoder.transform(test[cat_cols]).toarray()\n",
    "encoded_test=pd.DataFrame(encoded_test)"
   ]
  },
  {
   "cell_type": "code",
   "execution_count": 13,
   "metadata": {
    "ExecuteTime": {
     "end_time": "2021-05-30T03:19:49.438021Z",
     "start_time": "2021-05-30T03:19:49.422087Z"
    },
    "scrolled": true
   },
   "outputs": [],
   "source": [
    "#encoded.head()"
   ]
  },
  {
   "cell_type": "code",
   "execution_count": 14,
   "metadata": {
    "ExecuteTime": {
     "end_time": "2021-05-30T03:19:49.587908Z",
     "start_time": "2021-05-30T03:19:49.438021Z"
    }
   },
   "outputs": [],
   "source": [
    "from sklearn.preprocessing import MinMaxScaler\n",
    "for col in num_cols:\n",
    "    train[col]=MinMaxScaler().fit_transform(train[col].values.reshape(-1,1))\n",
    "    test[col]=MinMaxScaler().fit_transform(test[col].values.reshape(-1,1))"
   ]
  },
  {
   "cell_type": "code",
   "execution_count": 15,
   "metadata": {
    "ExecuteTime": {
     "end_time": "2021-05-30T03:19:49.644481Z",
     "start_time": "2021-05-30T03:19:49.587908Z"
    }
   },
   "outputs": [
    {
     "data": {
      "text/html": [
       "<div>\n",
       "<style scoped>\n",
       "    .dataframe tbody tr th:only-of-type {\n",
       "        vertical-align: middle;\n",
       "    }\n",
       "\n",
       "    .dataframe tbody tr th {\n",
       "        vertical-align: top;\n",
       "    }\n",
       "\n",
       "    .dataframe thead th {\n",
       "        text-align: right;\n",
       "    }\n",
       "</style>\n",
       "<table border=\"1\" class=\"dataframe\">\n",
       "  <thead>\n",
       "    <tr style=\"text-align: right;\">\n",
       "      <th></th>\n",
       "      <th>ID</th>\n",
       "      <th>Gender</th>\n",
       "      <th>Age</th>\n",
       "      <th>Region_Code</th>\n",
       "      <th>Occupation</th>\n",
       "      <th>Channel_Code</th>\n",
       "      <th>Vintage</th>\n",
       "      <th>Credit_Product</th>\n",
       "      <th>Avg_Account_Balance</th>\n",
       "      <th>Is_Active</th>\n",
       "      <th>Is_Lead</th>\n",
       "    </tr>\n",
       "  </thead>\n",
       "  <tbody>\n",
       "    <tr>\n",
       "      <th>0</th>\n",
       "      <td>NNVBBKZB</td>\n",
       "      <td>0</td>\n",
       "      <td>0.806452</td>\n",
       "      <td>18</td>\n",
       "      <td>1</td>\n",
       "      <td>2</td>\n",
       "      <td>0.281250</td>\n",
       "      <td>0</td>\n",
       "      <td>0.630865</td>\n",
       "      <td>0</td>\n",
       "      <td>0</td>\n",
       "    </tr>\n",
       "    <tr>\n",
       "      <th>1</th>\n",
       "      <td>IDD62UNG</td>\n",
       "      <td>0</td>\n",
       "      <td>0.112903</td>\n",
       "      <td>27</td>\n",
       "      <td>2</td>\n",
       "      <td>0</td>\n",
       "      <td>0.195312</td>\n",
       "      <td>0</td>\n",
       "      <td>0.536510</td>\n",
       "      <td>0</td>\n",
       "      <td>0</td>\n",
       "    </tr>\n",
       "    <tr>\n",
       "      <th>2</th>\n",
       "      <td>HD3DSEMC</td>\n",
       "      <td>0</td>\n",
       "      <td>0.532258</td>\n",
       "      <td>18</td>\n",
       "      <td>3</td>\n",
       "      <td>2</td>\n",
       "      <td>0.148438</td>\n",
       "      <td>0</td>\n",
       "      <td>0.687265</td>\n",
       "      <td>1</td>\n",
       "      <td>0</td>\n",
       "    </tr>\n",
       "    <tr>\n",
       "      <th>3</th>\n",
       "      <td>BF3NC7KV</td>\n",
       "      <td>1</td>\n",
       "      <td>0.177419</td>\n",
       "      <td>20</td>\n",
       "      <td>2</td>\n",
       "      <td>0</td>\n",
       "      <td>0.093750</td>\n",
       "      <td>0</td>\n",
       "      <td>0.502253</td>\n",
       "      <td>0</td>\n",
       "      <td>0</td>\n",
       "    </tr>\n",
       "    <tr>\n",
       "      <th>4</th>\n",
       "      <td>TEASRWXV</td>\n",
       "      <td>0</td>\n",
       "      <td>0.112903</td>\n",
       "      <td>32</td>\n",
       "      <td>2</td>\n",
       "      <td>0</td>\n",
       "      <td>0.203125</td>\n",
       "      <td>0</td>\n",
       "      <td>0.604324</td>\n",
       "      <td>0</td>\n",
       "      <td>0</td>\n",
       "    </tr>\n",
       "  </tbody>\n",
       "</table>\n",
       "</div>"
      ],
      "text/plain": [
       "         ID  Gender       Age  Region_Code  Occupation  Channel_Code  \\\n",
       "0  NNVBBKZB       0  0.806452           18           1             2   \n",
       "1  IDD62UNG       0  0.112903           27           2             0   \n",
       "2  HD3DSEMC       0  0.532258           18           3             2   \n",
       "3  BF3NC7KV       1  0.177419           20           2             0   \n",
       "4  TEASRWXV       0  0.112903           32           2             0   \n",
       "\n",
       "    Vintage  Credit_Product  Avg_Account_Balance  Is_Active  Is_Lead  \n",
       "0  0.281250               0             0.630865          0        0  \n",
       "1  0.195312               0             0.536510          0        0  \n",
       "2  0.148438               0             0.687265          1        0  \n",
       "3  0.093750               0             0.502253          0        0  \n",
       "4  0.203125               0             0.604324          0        0  "
      ]
     },
     "execution_count": 15,
     "metadata": {},
     "output_type": "execute_result"
    }
   ],
   "source": [
    "train.head()"
   ]
  },
  {
   "cell_type": "code",
   "execution_count": 16,
   "metadata": {
    "ExecuteTime": {
     "end_time": "2021-05-30T03:19:49.772325Z",
     "start_time": "2021-05-30T03:19:49.644481Z"
    }
   },
   "outputs": [],
   "source": [
    "encoded[num_cols]=train[num_cols]\n",
    "encoded_test[num_cols]=test[num_cols]"
   ]
  },
  {
   "cell_type": "code",
   "execution_count": 17,
   "metadata": {
    "ExecuteTime": {
     "end_time": "2021-05-30T03:19:50.282314Z",
     "start_time": "2021-05-30T03:19:49.772325Z"
    }
   },
   "outputs": [],
   "source": []
  },
  {
   "cell_type": "code",
   "execution_count": 18,
   "metadata": {
    "ExecuteTime": {
     "end_time": "2021-05-30T03:19:50.298414Z",
     "start_time": "2021-05-30T03:19:50.282314Z"
    }
   },
   "outputs": [],
   "source": [
    "from sklearn.metrics import classification_report, confusion_matrix,accuracy_score\n",
    "from sklearn.metrics import roc_auc_score\n",
    "X = encoded\n",
    "y = train.Is_Lead"
   ]
  },
  {
   "cell_type": "code",
   "execution_count": 19,
   "metadata": {
    "ExecuteTime": {
     "end_time": "2021-05-30T03:19:50.386247Z",
     "start_time": "2021-05-30T03:19:50.298414Z"
    }
   },
   "outputs": [],
   "source": []
  },
  {
   "cell_type": "code",
   "execution_count": null,
   "metadata": {},
   "outputs": [],
   "source": []
  },
  {
   "cell_type": "code",
   "execution_count": 20,
   "metadata": {
    "ExecuteTime": {
     "end_time": "2021-05-30T03:19:50.963857Z",
     "start_time": "2021-05-30T03:19:50.386247Z"
    }
   },
   "outputs": [
    {
     "data": {
      "application/javascript": [
       "\n",
       "        if (window._pyforest_update_imports_cell) { window._pyforest_update_imports_cell('from sklearn.model_selection import train_test_split'); }\n",
       "    "
      ],
      "text/plain": [
       "<IPython.core.display.Javascript object>"
      ]
     },
     "metadata": {},
     "output_type": "display_data"
    }
   ],
   "source": [
    "X_train, X_test, y_train, y_test = train_test_split(X,y,test_size=0.2,stratify=y)"
   ]
  },
  {
   "cell_type": "code",
   "execution_count": 818,
   "metadata": {
    "ExecuteTime": {
     "end_time": "2021-05-31T06:59:09.904796Z",
     "start_time": "2021-05-31T06:59:06.138082Z"
    }
   },
   "outputs": [],
   "source": [
    "from lightgbm import LGBMClassifier"
   ]
  },
  {
   "cell_type": "code",
   "execution_count": 819,
   "metadata": {
    "ExecuteTime": {
     "end_time": "2021-05-31T06:59:17.624577Z",
     "start_time": "2021-05-31T06:59:11.903462Z"
    }
   },
   "outputs": [
    {
     "data": {
      "text/plain": [
       "0.8249262386814529"
      ]
     },
     "execution_count": 819,
     "metadata": {},
     "output_type": "execute_result"
    }
   ],
   "source": [
    "model = LGBMClassifier()\n",
    "model.fit(X_train, y_train)\n",
    "pred=model.predict(X_test)\n",
    "accuracy_score(y_test,pred)"
   ]
  },
  {
   "cell_type": "code",
   "execution_count": 820,
   "metadata": {
    "ExecuteTime": {
     "end_time": "2021-05-31T06:59:20.729026Z",
     "start_time": "2021-05-31T06:59:20.216589Z"
    }
   },
   "outputs": [
    {
     "data": {
      "text/plain": [
       "0.7386926810352978"
      ]
     },
     "execution_count": 820,
     "metadata": {},
     "output_type": "execute_result"
    }
   ],
   "source": [
    "roc_auc_score(y_test, pred)"
   ]
  },
  {
   "cell_type": "code",
   "execution_count": 823,
   "metadata": {
    "ExecuteTime": {
     "end_time": "2021-05-31T07:00:36.830435Z",
     "start_time": "2021-05-31T07:00:10.044092Z"
    }
   },
   "outputs": [
    {
     "name": "stdout",
     "output_type": "stream",
     "text": [
      "[0.85058906 0.85016487 0.85080382 0.85353797 0.84686813 0.85218918\n",
      " 0.85080316 0.85045794 0.85376139 0.849916  ] 0.8509091502572679\n"
     ]
    }
   ],
   "source": [
    "from sklearn.model_selection import cross_val_score\n",
    "scores = cross_val_score(model, X, y, cv=10,scoring = 'roc_auc')\n",
    "print(scores,scores.mean())"
   ]
  },
  {
   "cell_type": "code",
   "execution_count": 824,
   "metadata": {
    "ExecuteTime": {
     "end_time": "2021-05-31T07:01:02.019516Z",
     "start_time": "2021-05-31T07:00:59.669590Z"
    }
   },
   "outputs": [
    {
     "data": {
      "text/plain": [
       "LGBMClassifier()"
      ]
     },
     "execution_count": 824,
     "metadata": {},
     "output_type": "execute_result"
    }
   ],
   "source": [
    "model.fit(X,y)"
   ]
  },
  {
   "cell_type": "code",
   "execution_count": 825,
   "metadata": {
    "ExecuteTime": {
     "end_time": "2021-05-31T07:01:14.336945Z",
     "start_time": "2021-05-31T07:01:13.953203Z"
    }
   },
   "outputs": [],
   "source": [
    "prediction=model.predict(encoded_test)"
   ]
  },
  {
   "cell_type": "code",
   "execution_count": 826,
   "metadata": {
    "ExecuteTime": {
     "end_time": "2021-05-31T07:01:22.016675Z",
     "start_time": "2021-05-31T07:01:20.922931Z"
    }
   },
   "outputs": [],
   "source": [
    "file=pd.DataFrame()\n",
    "file['ID']=test['ID']\n",
    "file['Is_Lead']=prediction"
   ]
  },
  {
   "cell_type": "code",
   "execution_count": 827,
   "metadata": {
    "ExecuteTime": {
     "end_time": "2021-05-31T07:01:32.625599Z",
     "start_time": "2021-05-31T07:01:31.608160Z"
    }
   },
   "outputs": [],
   "source": [
    "file.to_csv('Final.csv',index=False)"
   ]
  },
  {
   "cell_type": "code",
   "execution_count": null,
   "metadata": {},
   "outputs": [],
   "source": []
  }
 ],
 "metadata": {
  "kernelspec": {
   "display_name": "Python 3",
   "language": "python",
   "name": "python3"
  },
  "language_info": {
   "codemirror_mode": {
    "name": "ipython",
    "version": 3
   },
   "file_extension": ".py",
   "mimetype": "text/x-python",
   "name": "python",
   "nbconvert_exporter": "python",
   "pygments_lexer": "ipython3",
   "version": "3.7.5"
  },
  "varInspector": {
   "cols": {
    "lenName": 16,
    "lenType": 16,
    "lenVar": 40
   },
   "kernels_config": {
    "python": {
     "delete_cmd_postfix": "",
     "delete_cmd_prefix": "del ",
     "library": "var_list.py",
     "varRefreshCmd": "print(var_dic_list())"
    },
    "r": {
     "delete_cmd_postfix": ") ",
     "delete_cmd_prefix": "rm(",
     "library": "var_list.r",
     "varRefreshCmd": "cat(var_dic_list()) "
    }
   },
   "types_to_exclude": [
    "module",
    "function",
    "builtin_function_or_method",
    "instance",
    "_Feature"
   ],
   "window_display": false
  }
 },
 "nbformat": 4,
 "nbformat_minor": 2
}
